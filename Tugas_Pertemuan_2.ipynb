{
  "nbformat": 4,
  "nbformat_minor": 0,
  "metadata": {
    "colab": {
      "provenance": [],
      "authorship_tag": "ABX9TyM5ADyzRDs0hbi5YfaSBI1X",
      "include_colab_link": true
    },
    "kernelspec": {
      "name": "python3",
      "display_name": "Python 3"
    },
    "language_info": {
      "name": "python"
    }
  },
  "cells": [
    {
      "cell_type": "markdown",
      "metadata": {
        "id": "view-in-github",
        "colab_type": "text"
      },
      "source": [
        "<a href=\"https://colab.research.google.com/github/hisyamabdulah/Pemerograman-dasar/blob/main/Tugas_Pertemuan_2.ipynb\" target=\"_parent\"><img src=\"https://colab.research.google.com/assets/colab-badge.svg\" alt=\"Open In Colab\"/></a>"
      ]
    },
    {
      "cell_type": "code",
      "execution_count": null,
      "metadata": {
        "colab": {
          "base_uri": "https://localhost:8080/"
        },
        "id": "ocih_m9R6GiJ",
        "outputId": "36801787-ec9e-4974-ca6d-b7abf0a38449"
      },
      "outputs": [
        {
          "output_type": "stream",
          "name": "stdout",
          "text": [
            "nama depan : HISYAM\n",
            "nama belakang : ABDULLAH\n",
            "umur : 19\n",
            "status menikah : False\n"
          ]
        }
      ],
      "source": [
        "#1TODO\n",
        "firstName = \"HISYAM\"\n",
        "lastName = \"ABDULLAH\"\n",
        "age = 19\n",
        "isMarried = False\n",
        "\n",
        "print(\"nama depan :\", firstName)\n",
        "print(\"nama belakang :\", lastName)\n",
        "print(\"umur :\", age)\n",
        "print(\"status menikah :\", isMarried)"
      ]
    },
    {
      "cell_type": "code",
      "source": [
        "#2TODO\n",
        "data_diri = {\n",
        "\"firstName\": \"HISYAM\",\n",
        "\"lastName\": \"ABDULLAH\",\n",
        "\"age\": 19,\n",
        "\"isMarried\": False\n",
        "}\n",
        "print(\"Data Diri:\", data_diri)\n",
        "print(\"\\n=== BIODATA ===\")\n",
        "print(f\"Nama Depan       : {data_diri['firstName']}\")\n",
        "print(f\"Nama Belakang    : {data_diri['lastName']}\")\n",
        "print(f\"Umur             : {data_diri['age']} tahun\")\n",
        "print(f\"Status Pernikahan: {'Sudah Menikah' if data_diri['isMarried'] else 'Belum Menikah'}\")"
      ],
      "metadata": {
        "colab": {
          "base_uri": "https://localhost:8080/"
        },
        "id": "SCxg59659bt9",
        "outputId": "64564e9e-5a09-411f-99f2-93016535484d"
      },
      "execution_count": null,
      "outputs": [
        {
          "output_type": "stream",
          "name": "stdout",
          "text": [
            "Data Diri: {'firstName': 'HISYAM', 'lastName': 'ABDULLAH', 'age': 19, 'isMarried': False}\n",
            "\n",
            "=== BIODATA ===\n",
            "Nama Depan       : HISYAM\n",
            "Nama Belakang    : ABDULLAH\n",
            "Umur             : 19 tahun\n",
            "Status Pernikahan: Belum Menikah\n"
          ]
        }
      ]
    },
    {
      "cell_type": "code",
      "source": [
        "#3TODO\n",
        "\n",
        "inspeksi = [\n",
        "\"pemahaman terhadap rencana dan desain\",\n",
        "\"ketersediaan bahan dan peralatan\",\n",
        "\"pengawasan pekerjaan\",\n",
        "\"kualitas konstruksi\",\n",
        "\"keselamatan kerja\",\n",
        "\"koordinasi dengan pemilik proyek\"\n",
        "]\n",
        "print(\"daftar inspeksi:\")\n",
        "for item in inspeksi:\n",
        "    print(\"-\", item)"
      ],
      "metadata": {
        "colab": {
          "base_uri": "https://localhost:8080/"
        },
        "id": "fPHN6VW59cr7",
        "outputId": "08ae2698-fbad-45c7-bd92-c00697e6af26"
      },
      "execution_count": null,
      "outputs": [
        {
          "output_type": "stream",
          "name": "stdout",
          "text": [
            "daftar inspeksi:\n",
            "- pemahaman terhadap rencana dan desain\n",
            "- ketersediaan bahan dan peralatan\n",
            "- pengawasan pekerjaan\n",
            "- kualitas konstruksi\n",
            "- keselamatan kerja\n",
            "- koordinasi dengan pemilik proyek\n"
          ]
        }
      ]
    },
    {
      "cell_type": "code",
      "source": [
        "#4TODO\n",
        "StartTime = {\n",
        "\"HH\": 9,\n",
        "\"mm\": 23,\n",
        "\"ss\": 57\n",
        "}\n",
        "EndTime = {\n",
        "\"HH\": 15,\n",
        "\"mm\": 25,\n",
        "\"ss\": 43\n",
        "}\n",
        "print(\"Waktu Datang:\", StartTime)\n",
        "print(\"Waktu Pulang:\", EndTime)"
      ],
      "metadata": {
        "colab": {
          "base_uri": "https://localhost:8080/"
        },
        "id": "oyMPfh9z9if4",
        "outputId": "f065c50b-1d63-4b7d-9842-a03af7807f0b"
      },
      "execution_count": null,
      "outputs": [
        {
          "output_type": "stream",
          "name": "stdout",
          "text": [
            "Waktu Datang: {'HH': 9, 'mm': 23, 'ss': 57}\n",
            "Waktu Pulang: {'HH': 15, 'mm': 25, 'ss': 43}\n"
          ]
        }
      ]
    },
    {
      "cell_type": "code",
      "source": [
        "#5TODO\n",
        "\n",
        "katalog_A = {\"Laptop\", \"Smartphone\", \"Tablet\", \"Earphone\"}\n",
        "katalog_B = {\"Smartwatch\", \"Smartphone\", \"Laptop\", \"Kamera\"}\n",
        "produk_diskon = (\"Laptop\", \"Smartwatch\", \"Kamera\", \"Charger\")\n",
        "\n",
        "katalog_lengkap = katalog_A.union(katalog_B)\n",
        "print(\"Katalog Lengkap:\", katalog_lengkap)\n",
        "\n",
        "produk_promo_aktif = katalog_lengkap.intersection(produk_diskon)\n",
        "print(\"Produk Promo Aktif:\", produk_promo_aktif)"
      ],
      "metadata": {
        "colab": {
          "base_uri": "https://localhost:8080/"
        },
        "id": "b3uTfhYp9k_Y",
        "outputId": "f275a466-15e3-4c42-ed91-d0d604cbef09"
      },
      "execution_count": null,
      "outputs": [
        {
          "output_type": "stream",
          "name": "stdout",
          "text": [
            "Katalog Lengkap: {'Kamera', 'Earphone', 'Laptop', 'Smartwatch', 'Smartphone', 'Tablet'}\n",
            "Produk Promo Aktif: {'Kamera', 'Smartwatch', 'Laptop'}\n"
          ]
        }
      ]
    }
  ]
}