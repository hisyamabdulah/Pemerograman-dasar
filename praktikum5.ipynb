{
  "nbformat": 4,
  "nbformat_minor": 0,
  "metadata": {
    "colab": {
      "provenance": [],
      "authorship_tag": "ABX9TyNcyMkU5mo8KYNGFPkt9GWa",
      "include_colab_link": true
    },
    "kernelspec": {
      "name": "python3",
      "display_name": "Python 3"
    },
    "language_info": {
      "name": "python"
    }
  },
  "cells": [
    {
      "cell_type": "markdown",
      "metadata": {
        "id": "view-in-github",
        "colab_type": "text"
      },
      "source": [
        "<a href=\"https://colab.research.google.com/github/hisyamabdulah/Pemerograman-dasar/blob/main/praktikum5.ipynb\" target=\"_parent\"><img src=\"https://colab.research.google.com/assets/colab-badge.svg\" alt=\"Open In Colab\"/></a>"
      ]
    },
    {
      "cell_type": "code",
      "execution_count": null,
      "metadata": {
        "id": "MjQNCU1-f7P-"
      },
      "outputs": [],
      "source": []
    },
    {
      "cell_type": "code",
      "source": [
        "print(\"--- Soal 1 ---\")\n",
        "# Mencetak bilangan ganjil 1 hingga 50\n",
        "for angka in range(2, 50, 2):\n",
        "    print(angka)"
      ],
      "metadata": {
        "colab": {
          "base_uri": "https://localhost:8080/"
        },
        "id": "WEgsu--dg5ac",
        "outputId": "548c6915-ebc7-476b-da6d-d51505d20cf5"
      },
      "execution_count": null,
      "outputs": [
        {
          "output_type": "stream",
          "name": "stdout",
          "text": [
            "--- Soal 1 ---\n",
            "2\n",
            "4\n",
            "6\n",
            "8\n",
            "10\n",
            "12\n",
            "14\n",
            "16\n",
            "18\n",
            "20\n",
            "22\n",
            "24\n",
            "26\n",
            "28\n",
            "30\n",
            "32\n",
            "34\n",
            "36\n",
            "38\n",
            "40\n",
            "42\n",
            "44\n",
            "46\n",
            "48\n"
          ]
        }
      ]
    },
    {
      "cell_type": "code",
      "source": [
        "print(\"--- Soal 2 ---\")\n",
        "kode_berhenti = 4232401052\n",
        "input_pengguna = 0 # Inisialisasi awal\n",
        "\n",
        "while input_pengguna != kode_berhenti:\n",
        "    try:\n",
        "        input_pengguna = int(input(\"Masukkan nim anda ( untuk berhenti): \"))\n",
        "    except ValueError:\n",
        "        print(\"Input tidak valid. Harap masukkan angka.\")\n",
        "\n",
        "print(\"Perulangan telah dihentikan oleh sentinel (4232401052).\")"
      ],
      "metadata": {
        "colab": {
          "base_uri": "https://localhost:8080/"
        },
        "id": "y6WxPIfzhggu",
        "outputId": "07f8303d-5000-49ff-e1a4-f0894ebcdea1"
      },
      "execution_count": null,
      "outputs": [
        {
          "output_type": "stream",
          "name": "stdout",
          "text": [
            "--- Soal 2 ---\n",
            "Masukkan nim anda ( untuk berhenti): 897\n",
            "Masukkan nim anda ( untuk berhenti): 78\n",
            "Masukkan nim anda ( untuk berhenti): 4232401052\n",
            "Perulangan telah dihentikan oleh sentinel (4232401052).\n"
          ]
        }
      ]
    },
    {
      "cell_type": "code",
      "source": [
        "print(\"--- Soal 3 ---\")\n",
        "harga_barang = [15000, 25000, 10000, 5000, 30000, 40000, 8000 ,35000, 50000, 12000]\n",
        "total_belanja = 0\n",
        "\n",
        "for harga in harga_barang:\n",
        "    total_belanja += harga\n",
        "\n",
        "print(\"Total biaya belanja adalah:\", total_belanja)"
      ],
      "metadata": {
        "colab": {
          "base_uri": "https://localhost:8080/"
        },
        "id": "hWfGd1uXiWX0",
        "outputId": "3cb33382-6ff7-4dd9-d37a-a31c034243ce"
      },
      "execution_count": null,
      "outputs": [
        {
          "output_type": "stream",
          "name": "stdout",
          "text": [
            "--- Soal 3 ---\n",
            "Total biaya belanja adalah: 230000\n"
          ]
        }
      ]
    },
    {
      "cell_type": "code",
      "source": [
        "print(\"--- Soal 4 ---\")\n",
        "percobaan_maksimal = 3\n",
        "percobaan_saat_ini = 1\n",
        "password_benar = \"zembots\"\n",
        "\n",
        "while percobaan_saat_ini <= percobaan_maksimal:\n",
        "    print(f\"Percobaan ke-{percobaan_saat_ini}...\")\n",
        "    input_password = input(\"Masukkan password: \")\n",
        "\n",
        "    if input_password == password_benar:\n",
        "        print(\"Akses diterima.\")\n",
        "        break\n",
        "    percobaan_saat_ini += 1\n",
        "\n",
        "if percobaan_saat_ini > percobaan_maksimal:\n",
        "    print(\"Kesempatan habis.\")"
      ],
      "metadata": {
        "colab": {
          "base_uri": "https://localhost:8080/"
        },
        "id": "OSkGJ8Xhl20v",
        "outputId": "296db991-8ffe-4c27-9ca9-b54d12d61e86"
      },
      "execution_count": null,
      "outputs": [
        {
          "output_type": "stream",
          "name": "stdout",
          "text": [
            "--- Soal 4 ---\n",
            "Percobaan ke-1...\n",
            "Masukkan password: p\n",
            "Percobaan ke-2...\n",
            "Masukkan password: pakek 100\n",
            "Percobaan ke-3...\n",
            "Masukkan password: zembots\n",
            "Akses diterima.\n"
          ]
        }
      ]
    },
    {
      "cell_type": "code",
      "source": [
        "print(\"--- Soal 5 ---\")\n",
        "nama_proyek = \"Politeknik negeri batam\"\n",
        "hasil_output = \"\"\n",
        "\n",
        "for karakter in nama_proyek:\n",
        "    hasil_output += karakter + \"-\"\n",
        "\n",
        "print(hasil_output) # Output: -P-o-l-i-t-e-k-n-i-k- -n-e-g-g-e-r-i- -b-a-t-a-m-"
      ],
      "metadata": {
        "colab": {
          "base_uri": "https://localhost:8080/"
        },
        "id": "4dJ16z2BoLsM",
        "outputId": "38e34dc8-6ff1-42b4-b633-d96d4fb31728"
      },
      "execution_count": null,
      "outputs": [
        {
          "output_type": "stream",
          "name": "stdout",
          "text": [
            "--- Soal 5 ---\n",
            "P-o-l-i-t-e-k-n-i-k- -n-e-g-e-r-i- -b-a-t-a-m-\n"
          ]
        }
      ]
    },
    {
      "cell_type": "code",
      "source": [
        "print(\"--- Soal 6 ---\")\n",
        "# Countdown dari 5 ke 1\n",
        "for i in range(255, 0, -1):\n",
        "    print(i)"
      ],
      "metadata": {
        "colab": {
          "base_uri": "https://localhost:8080/"
        },
        "id": "hyx1UaBipP7T",
        "outputId": "0a73a2c7-1062-4e89-850e-2d7951bf7c49"
      },
      "execution_count": null,
      "outputs": [
        {
          "output_type": "stream",
          "name": "stdout",
          "text": [
            "--- Soal 6 ---\n",
            "255\n",
            "254\n",
            "253\n",
            "252\n",
            "251\n",
            "250\n",
            "249\n",
            "248\n",
            "247\n",
            "246\n",
            "245\n",
            "244\n",
            "243\n",
            "242\n",
            "241\n",
            "240\n",
            "239\n",
            "238\n",
            "237\n",
            "236\n",
            "235\n",
            "234\n",
            "233\n",
            "232\n",
            "231\n",
            "230\n",
            "229\n",
            "228\n",
            "227\n",
            "226\n",
            "225\n",
            "224\n",
            "223\n",
            "222\n",
            "221\n",
            "220\n",
            "219\n",
            "218\n",
            "217\n",
            "216\n",
            "215\n",
            "214\n",
            "213\n",
            "212\n",
            "211\n",
            "210\n",
            "209\n",
            "208\n",
            "207\n",
            "206\n",
            "205\n",
            "204\n",
            "203\n",
            "202\n",
            "201\n",
            "200\n",
            "199\n",
            "198\n",
            "197\n",
            "196\n",
            "195\n",
            "194\n",
            "193\n",
            "192\n",
            "191\n",
            "190\n",
            "189\n",
            "188\n",
            "187\n",
            "186\n",
            "185\n",
            "184\n",
            "183\n",
            "182\n",
            "181\n",
            "180\n",
            "179\n",
            "178\n",
            "177\n",
            "176\n",
            "175\n",
            "174\n",
            "173\n",
            "172\n",
            "171\n",
            "170\n",
            "169\n",
            "168\n",
            "167\n",
            "166\n",
            "165\n",
            "164\n",
            "163\n",
            "162\n",
            "161\n",
            "160\n",
            "159\n",
            "158\n",
            "157\n",
            "156\n",
            "155\n",
            "154\n",
            "153\n",
            "152\n",
            "151\n",
            "150\n",
            "149\n",
            "148\n",
            "147\n",
            "146\n",
            "145\n",
            "144\n",
            "143\n",
            "142\n",
            "141\n",
            "140\n",
            "139\n",
            "138\n",
            "137\n",
            "136\n",
            "135\n",
            "134\n",
            "133\n",
            "132\n",
            "131\n",
            "130\n",
            "129\n",
            "128\n",
            "127\n",
            "126\n",
            "125\n",
            "124\n",
            "123\n",
            "122\n",
            "121\n",
            "120\n",
            "119\n",
            "118\n",
            "117\n",
            "116\n",
            "115\n",
            "114\n",
            "113\n",
            "112\n",
            "111\n",
            "110\n",
            "109\n",
            "108\n",
            "107\n",
            "106\n",
            "105\n",
            "104\n",
            "103\n",
            "102\n",
            "101\n",
            "100\n",
            "99\n",
            "98\n",
            "97\n",
            "96\n",
            "95\n",
            "94\n",
            "93\n",
            "92\n",
            "91\n",
            "90\n",
            "89\n",
            "88\n",
            "87\n",
            "86\n",
            "85\n",
            "84\n",
            "83\n",
            "82\n",
            "81\n",
            "80\n",
            "79\n",
            "78\n",
            "77\n",
            "76\n",
            "75\n",
            "74\n",
            "73\n",
            "72\n",
            "71\n",
            "70\n",
            "69\n",
            "68\n",
            "67\n",
            "66\n",
            "65\n",
            "64\n",
            "63\n",
            "62\n",
            "61\n",
            "60\n",
            "59\n",
            "58\n",
            "57\n",
            "56\n",
            "55\n",
            "54\n",
            "53\n",
            "52\n",
            "51\n",
            "50\n",
            "49\n",
            "48\n",
            "47\n",
            "46\n",
            "45\n",
            "44\n",
            "43\n",
            "42\n",
            "41\n",
            "40\n",
            "39\n",
            "38\n",
            "37\n",
            "36\n",
            "35\n",
            "34\n",
            "33\n",
            "32\n",
            "31\n",
            "30\n",
            "29\n",
            "28\n",
            "27\n",
            "26\n",
            "25\n",
            "24\n",
            "23\n",
            "22\n",
            "21\n",
            "20\n",
            "19\n",
            "18\n",
            "17\n",
            "16\n",
            "15\n",
            "14\n",
            "13\n",
            "12\n",
            "11\n",
            "10\n",
            "9\n",
            "8\n",
            "7\n",
            "6\n",
            "5\n",
            "4\n",
            "3\n",
            "2\n",
            "1\n"
          ]
        }
      ]
    },
    {
      "cell_type": "code",
      "source": [
        "print(\"--- Soal 7 ---\")\n",
        "kelurahan_kota_batam = [\"batam kota\", \"batu ampar\", \"belakang padang\", \"bengkong\", \"bulang\", \"galang\", \"lubuk baja\", \"nongsa\", \"sagulung\", \"sei beduk\", \"sekupang\", \"batu aji\"]\n",
        "\n",
        "for i, nama in enumerate(kelurahan_kota_batam):\n",
        "    # i adalah indeks, nama adalah elemen\n",
        "    print(f\"Kelurahan ke-{i + 1}: {nama}\")"
      ],
      "metadata": {
        "colab": {
          "base_uri": "https://localhost:8080/"
        },
        "id": "kvG_jwl_pa_L",
        "outputId": "c1c92162-328e-4772-ddfd-a5708bd90e01"
      },
      "execution_count": null,
      "outputs": [
        {
          "output_type": "stream",
          "name": "stdout",
          "text": [
            "--- Soal 7 ---\n",
            "Kelurahan ke-1: batam kota\n",
            "Kelurahan ke-2: batu ampar\n",
            "Kelurahan ke-3: belakang padang\n",
            "Kelurahan ke-4: bengkong\n",
            "Kelurahan ke-5: bulang\n",
            "Kelurahan ke-6: galang\n",
            "Kelurahan ke-7: lubuk baja\n",
            "Kelurahan ke-8: nongsa\n",
            "Kelurahan ke-9: sagulung\n",
            "Kelurahan ke-10: sei beduk\n",
            "Kelurahan ke-11: sekupang\n",
            "Kelurahan ke-12: batu aji\n"
          ]
        }
      ]
    },
    {
      "cell_type": "code",
      "source": [
        "print(\"--- Soal 8 ---\")\n",
        "data_angka = [1,2,3,4,5,6,7,8,9,10]\n",
        "\n",
        "for angka in data_angka:\n",
        "    if angka == 0:\n",
        "        break\n",
        "    print(angka)\n",
        "\n",
        "print(\"Program berhenti karena angka 0 ditemukan.\")"
      ],
      "metadata": {
        "colab": {
          "base_uri": "https://localhost:8080/"
        },
        "id": "llhXEUHHvSKv",
        "outputId": "15b35610-cb2d-4996-b063-b2e71c6b421b"
      },
      "execution_count": null,
      "outputs": [
        {
          "output_type": "stream",
          "name": "stdout",
          "text": [
            "--- Soal 8 ---\n",
            "1\n",
            "2\n",
            "3\n",
            "4\n",
            "5\n",
            "6\n",
            "7\n",
            "8\n",
            "9\n",
            "10\n",
            "Program berhenti karena angka 0 ditemukan.\n"
          ]
        }
      ]
    },
    {
      "cell_type": "code",
      "source": [
        "print(\"--- Soal 9 ---\")\n",
        "total = 0\n",
        "bilangan = 1\n",
        "batas = 20\n",
        "\n",
        "while total <= batas:\n",
        "    total += bilangan\n",
        "    bilangan += 1\n",
        "\n",
        "print(\"Total terakhir:\", total)"
      ],
      "metadata": {
        "colab": {
          "base_uri": "https://localhost:8080/"
        },
        "id": "RjJctTGBxDTl",
        "outputId": "5b8ad34d-a75e-477e-fda4-8c178f7cc9b5"
      },
      "execution_count": null,
      "outputs": [
        {
          "output_type": "stream",
          "name": "stdout",
          "text": [
            "--- Soal 9 ---\n",
            "Total terakhir: 21\n"
          ]
        }
      ]
    },
    {
      "cell_type": "code",
      "source": [
        "print(\"--- Soal 10 ---\")\n",
        "jumlah_baris = 3\n",
        "\n",
        "for baris in range(jumlah_baris):\n",
        "    baris_teks = \"\"\n",
        "    for _ in range(1):\n",
        "        baris_teks += \"Python \"\n",
        "    print(baris_teks)"
      ],
      "metadata": {
        "colab": {
          "base_uri": "https://localhost:8080/"
        },
        "id": "jArcxI-jyC7b",
        "outputId": "6019277d-f603-4b3c-8711-c761bcde8e11"
      },
      "execution_count": null,
      "outputs": [
        {
          "output_type": "stream",
          "name": "stdout",
          "text": [
            "--- Soal 10 ---\n",
            "Python \n",
            "Python \n",
            "Python \n"
          ]
        }
      ]
    }
  ]
}