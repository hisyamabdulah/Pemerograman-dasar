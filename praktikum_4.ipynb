{
  "nbformat": 4,
  "nbformat_minor": 0,
  "metadata": {
    "colab": {
      "provenance": [],
      "authorship_tag": "ABX9TyNNhkrUOb1NkuRDin/zuO6U",
      "include_colab_link": true
    },
    "kernelspec": {
      "name": "python3",
      "display_name": "Python 3"
    },
    "language_info": {
      "name": "python"
    }
  },
  "cells": [
    {
      "cell_type": "markdown",
      "metadata": {
        "id": "view-in-github",
        "colab_type": "text"
      },
      "source": [
        "<a href=\"https://colab.research.google.com/github/hisyamabdulah/Pemerograman-dasar/blob/main/praktikum_4.ipynb\" target=\"_parent\"><img src=\"https://colab.research.google.com/assets/colab-badge.svg\" alt=\"Open In Colab\"/></a>"
      ]
    },
    {
      "cell_type": "code",
      "execution_count": null,
      "metadata": {
        "colab": {
          "base_uri": "https://localhost:8080/"
        },
        "id": "5v-Le48KVzci",
        "outputId": "732b3c2a-d7ed-429e-8a51-d964f13e3c0a"
      },
      "outputs": [
        {
          "output_type": "stream",
          "name": "stdout",
          "text": [
            "pengunjung adalah orang dewasa\n"
          ]
        }
      ],
      "source": [
        "umur: int = 19\n",
        "if umur > 17:\n",
        "  print(\"pengunjung adalah orang dewasa\")"
      ]
    },
    {
      "cell_type": "code",
      "source": [
        "username = input(\"masukkan username: \")\n",
        "password = input(\"masukkan password: \")\n",
        "\n",
        "if username == \"pukpak\" and password == \"1234\":\n",
        "  print(\"login berhasil:\")\n",
        "else:\n",
        "  print(\"login gagal\")"
      ],
      "metadata": {
        "colab": {
          "base_uri": "https://localhost:8080/"
        },
        "id": "l62h96NjWhxf",
        "outputId": "0732a308-86e7-4db8-82a7-f7770461ebf1"
      },
      "execution_count": null,
      "outputs": [
        {
          "output_type": "stream",
          "name": "stdout",
          "text": [
            "masukkan username: pukpak\n",
            "masukkan password: 1234\n",
            "login berhasil:\n"
          ]
        }
      ]
    },
    {
      "cell_type": "code",
      "source": [
        "total_belanja = input(\"total belanja: rp \")\n",
        "bayar = int(total_belanja)\n",
        "if int(total_belanja) > 100000:\n",
        "  print(\"selamat karena belanja > rp. 100.000 anda mendapat voucher makan \")\n",
        "  print(\"dan diskon 5%\")\n",
        "  diskon = int(total_belanja) * 5/100 #5%\n",
        "  bayar = int(total_belanja) - diskon\n",
        "  print(\"total yang harus dibayar: rp %s\" % bayar)\n",
        "  print(\"terima kasih sudah berbelanja di toko kami\")\n",
        "  print(\"kami tunggu kunjungan anda selanjutnya\")"
      ],
      "metadata": {
        "id": "Fj-NKgsoWmUW",
        "colab": {
          "base_uri": "https://localhost:8080/"
        },
        "outputId": "801eb211-7de7-42f0-c005-ba3be638f2a7"
      },
      "execution_count": null,
      "outputs": [
        {
          "output_type": "stream",
          "name": "stdout",
          "text": [
            "total belanja: rp 120000\n",
            "selamat karena belanja > rp. 100.000 anda mendapat voucher makan \n",
            "dan diskon 5%\n",
            "total yang harus dibayar: rp 114000.0\n",
            "terima kasih sudah berbelanja di toko kami\n",
            "kami tunggu kunjungan anda selanjutnya\n"
          ]
        }
      ]
    },
    {
      "cell_type": "code",
      "source": [
        "ada_notifikasi_baru: bool = True\n",
        "if ada_notifikasi_baru :\n",
        "  print(\"anda memiliki pesan baru!\")"
      ],
      "metadata": {
        "colab": {
          "base_uri": "https://localhost:8080/"
        },
        "id": "ADgf2Xr3bwFG",
        "outputId": "479a2c2a-af02-4b07-f271-41aa982ff732"
      },
      "execution_count": null,
      "outputs": [
        {
          "output_type": "stream",
          "name": "stdout",
          "text": [
            "anda memiliki pesan baru!\n"
          ]
        }
      ]
    },
    {
      "cell_type": "code",
      "source": [
        "umur = input(\"berapa umur kamu: \")\n",
        "if int(umur) >=18:\n",
        "  print(\"kamu boleh membuat kartu SIM\")\n",
        "else:\n",
        "  print(\"kamu belum boleh membuat kartu SIM\")"
      ],
      "metadata": {
        "colab": {
          "base_uri": "https://localhost:8080/"
        },
        "id": "kHQmCPdrdlZs",
        "outputId": "e9adf555-9ce0-45ac-f946-06e38cbbfb06"
      },
      "execution_count": null,
      "outputs": [
        {
          "output_type": "stream",
          "name": "stdout",
          "text": [
            "berapa umur kamu: 19\n",
            "kamu boleh membuat kartu SIM\n"
          ]
        }
      ]
    },
    {
      "cell_type": "code",
      "source": [
        "total_belanja = 30000\n",
        "\n",
        "if total_belanja > 200000:\n",
        "  diskon = total_belanja * 0.10\n",
        "  total_bayar + total_belanja - diskon\n",
        "  print(f\"anda mendapat diskon! total bayar: Rp {total_bayar}\")\n",
        "else:\n",
        "  print(f\"total bayar: Rp {total_belanja}\")\n"
      ],
      "metadata": {
        "colab": {
          "base_uri": "https://localhost:8080/"
        },
        "id": "ctDwIdxwei3t",
        "outputId": "ceb8bc25-ec6d-4ec6-ac9a-2f82e7643e8b"
      },
      "execution_count": null,
      "outputs": [
        {
          "output_type": "stream",
          "name": "stdout",
          "text": [
            "total bayar: Rp 30000\n"
          ]
        }
      ]
    },
    {
      "cell_type": "code",
      "source": [
        "angka = int(input(\"masukkan bilangan: \"))\n",
        "\n",
        "if angka % 2 == 0:\n",
        "   print(\"bilangan genap\")\n",
        "else:\n",
        "   print(\"bilangan ganjil\")"
      ],
      "metadata": {
        "colab": {
          "base_uri": "https://localhost:8080/"
        },
        "id": "GMr2dIqAgddt",
        "outputId": "7ccd3e84-94fc-4d9c-ce94-c41f6fa6383e"
      },
      "execution_count": null,
      "outputs": [
        {
          "output_type": "stream",
          "name": "stdout",
          "text": [
            "masukkan bilangan: 2\n",
            "bilangan genap\n"
          ]
        }
      ]
    },
    {
      "cell_type": "code",
      "source": [
        "nilai = 90\n",
        "if nilai >= 85:\n",
        "  print(\"luar biasa! nilai A\")\n",
        "elif nilai >= 70:\n",
        "  print(\"bagus nilai B\")\n",
        "elif nilai >= 60:\n",
        "  print(\"cukup nilai C\")\n",
        "else:\n",
        "  print(\"nilai kurang, perlu belajar lebih giat.\")\n"
      ],
      "metadata": {
        "colab": {
          "base_uri": "https://localhost:8080/"
        },
        "id": "TsQAdjidhPyz",
        "outputId": "8d6d968b-bb7d-46e4-af52-b540babe3954"
      },
      "execution_count": null,
      "outputs": [
        {
          "output_type": "stream",
          "name": "stdout",
          "text": [
            "luar biasa! nilai A\n"
          ]
        }
      ]
    },
    {
      "cell_type": "code",
      "source": [
        "hari:str = \"sabtu\"\n",
        "\n",
        "if hari ==\"sabtu\" or hari == \"minggu\":\n",
        "   diskon: float = 0.20 # diskon 20%\n",
        "   print(f\"selamat! anda mendapatkan diskon akhir pekan sebesar {diskon*100}%.\")\n",
        "elif hari == \"jumat\":\n",
        "  diskon: float = 0.15 # diskon 15%\n",
        "  print(f\"diskon sopesial jumat! anda mendapat potongan {diskon*100}%.\")\n",
        "else:\n",
        "  diskon: float = 0.05 # diskon 5%\n",
        "  print(f\"anda mendapatkan diskon hari biasa sebesar {diskon*100}%.\")\n"
      ],
      "metadata": {
        "colab": {
          "base_uri": "https://localhost:8080/"
        },
        "id": "MMoAIOcdiXy1",
        "outputId": "e39a7c4e-f0cf-40fa-c84b-23cbf720a23d"
      },
      "execution_count": null,
      "outputs": [
        {
          "output_type": "stream",
          "name": "stdout",
          "text": [
            "selamat! anda mendapatkan diskon akhir pekan sebesar 20.0%.\n"
          ]
        }
      ]
    },
    {
      "cell_type": "code",
      "source": [
        "rupiah = int(input(\"masukkan jumlah uang (Rp): \"))\n",
        "print(\"1. dollar (USD)\")\n",
        "print(\"2. euro (EUR)\")\n",
        "print(\"3. yen (JPV)\")\n",
        "pilih = int(input(\"pilih konversi (1/2/3): \"))\n",
        "\n",
        "if pilih == 1:\n",
        "   print(\"dalam dollar:\", rupiah / 15000)\n",
        "elif pilih == 2:\n",
        "   print(\"dalam euro:\", rupiah / 17000)\n",
        "elif pilih == 3:\n",
        "   print(\"dalam yen:\", rupiah / 110)\n",
        "else:\n",
        "   print(\"pilihan tidak valid\")\n",
        "\n"
      ],
      "metadata": {
        "colab": {
          "base_uri": "https://localhost:8080/"
        },
        "id": "14-09Qm6lEwz",
        "outputId": "141da8b7-b052-42bb-b5f1-7e8c29bfba70"
      },
      "execution_count": null,
      "outputs": [
        {
          "output_type": "stream",
          "name": "stdout",
          "text": [
            "masukkan jumlah uang (Rp): 11111111376237623762854\n",
            "1. dollar (USD)\n",
            "2. euro (EUR)\n",
            "3. yen (JPV)\n",
            "pilih konversi (1/2/3): 1\n",
            "dalam dollar: 7.407407584158415e+17\n"
          ]
        }
      ]
    },
    {
      "cell_type": "code",
      "source": [],
      "metadata": {
        "id": "ersJJzeqmxO6"
      },
      "execution_count": null,
      "outputs": []
    }
  ]
}