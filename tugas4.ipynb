{
  "nbformat": 4,
  "nbformat_minor": 0,
  "metadata": {
    "colab": {
      "provenance": [],
      "authorship_tag": "ABX9TyMqathz8+wiBsFoyS+L69AF",
      "include_colab_link": true
    },
    "kernelspec": {
      "name": "python3",
      "display_name": "Python 3"
    },
    "language_info": {
      "name": "python"
    }
  },
  "cells": [
    {
      "cell_type": "markdown",
      "metadata": {
        "id": "view-in-github",
        "colab_type": "text"
      },
      "source": [
        "<a href=\"https://colab.research.google.com/github/hisyamabdulah/Pemerograman-dasar/blob/main/tugas4.ipynb\" target=\"_parent\"><img src=\"https://colab.research.google.com/assets/colab-badge.svg\" alt=\"Open In Colab\"/></a>"
      ]
    },
    {
      "cell_type": "code",
      "source": [
        "print(\"=\" * 40)\n",
        "print(\"     WELCOME TO WARUNG HARMONI\")\n",
        "print(\"=\" * 40)\n",
        "\n",
        "print(\"Daftar Menu:\")\n",
        "print(\"1. Es Kopi Susu     = Rp 14.000\")\n",
        "print(\"2. Teh Lemon Hangat = Rp 9.000\")\n",
        "print(\"3. Roti Coklat      = Rp 13.000\")\n",
        "print(\"4. Mie Goreng       = Rp 11.000\")\n",
        "print(\"=\" * 40)\n",
        "\n",
        "# Meminta pelanggan memilih menu\n",
        "pilih_str: str = input(\"Ketik nomor menu yang ingin dipesan (1-4): \")\n",
        "pilih = int(pilih_str)     # ubah input string menjadi integer\n",
        "\n",
        "# Variabel untuk menyimpan nama menu dan harga\n",
        "menu_pesanan: str = \"\"\n",
        "biaya: int = 0\n",
        "\n",
        "# Menentukan menu berdasarkan pilihan\n",
        "if pilih == 1:\n",
        "    menu_pesanan = \"Es Kopi Susu\"\n",
        "    biaya = 14000\n",
        "    print(f\"Pesanan Anda: {menu_pesanan} | Harga: Rp {biaya}\")\n",
        "elif pilih == 2:\n",
        "    menu_pesanan = \"Teh Lemon Hangat\"\n",
        "    biaya = 9000\n",
        "    print(f\"Pesanan Anda: {menu_pesanan} | Harga: Rp {biaya}\")\n",
        "elif pilih == 3:\n",
        "    menu_pesanan = \"Roti Coklat\"\n",
        "    biaya = 13000\n",
        "    print(f\"Pesanan Anda: {menu_pesanan} | Harga: Rp {biaya}\")\n",
        "elif pilih == 4:\n",
        "    menu_pesanan = \"Mie Goreng\"\n",
        "    biaya = 11000\n",
        "    print(f\"Pesanan Anda: {menu_pesanan} | Harga: Rp {biaya}\")\n",
        "else:\n",
        "    print(\"Menu tidak ditemukan. Silakan ulangi pemesanan.\")\n",
        "\n",
        "# Jika pesanan valid, lanjut pembayaran\n",
        "if biaya > 0:\n",
        "    print(\"=\" * 40)\n",
        "    bayar_str: str = input(f\"Total pembayaran Rp {biaya}. Masukkan uang Anda: Rp \")\n",
        "    bayar: int = int(bayar_str)\n",
        "\n",
        "    # Mengecek apakah uang mencukupi\n",
        "    if bayar >= biaya:\n",
        "        kembalian: int = bayar - biaya\n",
        "        print(f\"Kembalian Anda sebesar Rp {kembalian}\")\n",
        "        print(\"Terima kasih sudah mampir di Warung Harmoni!\")\n",
        "    else:\n",
        "        kurang: int = biaya - bayar\n",
        "        print(f\"Uang Anda kurang Rp {kurang}, mohon tambahkan uang.\")"
      ],
      "metadata": {
        "colab": {
          "base_uri": "https://localhost:8080/"
        },
        "id": "xIK0UwSUybua",
        "outputId": "b1c1ed15-899e-444a-8547-9b1c39bdf887"
      },
      "execution_count": null,
      "outputs": [
        {
          "output_type": "stream",
          "name": "stdout",
          "text": [
            "========================================\n",
            "     WELCOME TO WARUNG HARMONI\n",
            "========================================\n",
            "Daftar Menu:\n",
            "1. Es Kopi Susu     = Rp 14.000\n",
            "2. Teh Lemon Hangat = Rp 9.000\n",
            "3. Roti Coklat      = Rp 13.000\n",
            "4. Mie Goreng       = Rp 11.000\n",
            "========================================\n",
            "Ketik nomor menu yang ingin dipesan (1-4): 3\n",
            "Pesanan Anda: Roti Coklat | Harga: Rp 13000\n",
            "========================================\n",
            "Total pembayaran Rp 13000. Masukkan uang Anda: Rp 50000\n",
            "Kembalian Anda sebesar Rp 37000\n",
            "Terima kasih sudah mampir di Warung Harmoni!\n"
          ]
        }
      ]
    }
  ]
}