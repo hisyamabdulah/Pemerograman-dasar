{
  "nbformat": 4,
  "nbformat_minor": 0,
  "metadata": {
    "colab": {
      "provenance": [],
      "authorship_tag": "ABX9TyNDBU7HoLGbrT9xdn6j8Tya",
      "include_colab_link": true
    },
    "kernelspec": {
      "name": "python3",
      "display_name": "Python 3"
    },
    "language_info": {
      "name": "python"
    }
  },
  "cells": [
    {
      "cell_type": "markdown",
      "metadata": {
        "id": "view-in-github",
        "colab_type": "text"
      },
      "source": [
        "<a href=\"https://colab.research.google.com/github/hisyamabdulah/Pemerograman-dasar/blob/main/tugas_3.ipynb\" target=\"_parent\"><img src=\"https://colab.research.google.com/assets/colab-badge.svg\" alt=\"Open In Colab\"/></a>"
      ]
    },
    {
      "cell_type": "code",
      "execution_count": 1,
      "metadata": {
        "colab": {
          "base_uri": "https://localhost:8080/"
        },
        "id": "vp7f0NkSTsif",
        "outputId": "40264159-673b-4e7e-c8db-483a3f2339e8"
      },
      "outputs": [
        {
          "output_type": "stream",
          "name": "stdout",
          "text": [
            "Subtotal belanja: 105000\n",
            "Diskon yang didapat: 15750.0\n",
            "Harga setelah diskon: 89250.0\n",
            "PPN (11%): 9817.5\n",
            "Total yang harus dibayar: 99067.5\n"
          ]
        }
      ],
      "source": [
        "# Program Kasir Sederhana di Kedai Kopi\n",
        "\n",
        "# Input: daftar harga item yang dibeli\n",
        "items = [25000, 30000, 50000]   # contoh: kopi 25rb, teh 30rb, snack 50rb\n",
        "is_member = True                # apakah pelanggan anggota (member)? True/False\n",
        "\n",
        "# 1. Hitung Subtotal\n",
        "subtotal = sum(items)\n",
        "print(\"Subtotal belanja:\", subtotal)\n",
        "\n",
        "# 2. Evaluasi syarat diskon\n",
        "if is_member and subtotal > 100000:\n",
        "    diskon = 0.15 * subtotal\n",
        "else:\n",
        "    diskon = 0\n",
        "\n",
        "# 3. Hitung harga setelah diskon\n",
        "harga_setelah_diskon = subtotal - diskon\n",
        "print(\"Diskon yang didapat:\", diskon)\n",
        "print(\"Harga setelah diskon:\", harga_setelah_diskon)\n",
        "\n",
        "# 4. Hitung PPN 11%\n",
        "ppn = 0.11 * harga_setelah_diskon\n",
        "print(\"PPN (11%):\", ppn)\n",
        "\n",
        "# 5. Hitung Total Akhir\n",
        "total_akhir = harga_setelah_diskon + ppn\n",
        "print(\"Total yang harus dibayar:\", total_akhir)"
      ]
    }
  ]
}